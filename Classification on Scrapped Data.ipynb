{
 "cells": [
  {
   "cell_type": "code",
   "execution_count": 1,
   "id": "48689174-b1f9-4dcf-a90a-453c8f25fa15",
   "metadata": {},
   "outputs": [],
   "source": [
    "# importing packages\n",
    "import pandas as pd\n",
    "import numpy as np\n",
    "import matplotlib.pyplot as plt\n",
    "import seaborn as sns\n",
    "\n",
    "import sys\n",
    "from sklearn.preprocessing import OrdinalEncoder\n",
    "from sklearn.compose import ColumnTransformer\n",
    "from sklearn.feature_extraction.text import TfidfVectorizer, CountVectorizer\n",
    "from sklearn.naive_bayes import GaussianNB, MultinomialNB\n",
    "from sklearn.metrics import classification_report, confusion_matrix, accuracy_score\n",
    "from sklearn.pipeline import Pipeline\n",
    "from sklearn.model_selection import train_test_split\n",
    "from sklearn.metrics import confusion_matrix\n",
    "from sklearn.linear_model import LogisticRegression\n",
    "from sklearn import svm\n",
    "from sklearn.tree import DecisionTreeClassifier\n",
    "from sklearn.ensemble import BaggingClassifier, RandomForestClassifier\n",
    "from sklearn.neighbors import KNeighborsClassifier"
   ]
  },
  {
   "cell_type": "code",
   "execution_count": 3,
   "id": "5a5c6591-5271-41bd-b464-c9aaa7449e74",
   "metadata": {},
   "outputs": [],
   "source": [
    "d1 = pd.read_csv('./boat_bassheads900_reviews.csv')\n",
    "d2 = pd.read_csv('./boat_bassheads900_reviews_1.csv')\n",
    "d3 = pd.read_csv('./boat_bassheads900_reviews_2.csv')\n",
    "d4 = pd.read_csv('./boat_bassheads900_reviews_3.csv')"
   ]
  },
  {
   "cell_type": "code",
   "execution_count": 4,
   "id": "efb1b5c4-d298-4217-a872-f146a2f7ac41",
   "metadata": {},
   "outputs": [],
   "source": [
    "# Using Concat function to merge all the four datasets\n",
    "final_df = pd.concat([d1, d2, d3, d4], ignore_index = True)"
   ]
  },
  {
   "cell_type": "code",
   "execution_count": 5,
   "id": "312889e6-6018-4058-bc12-e652a5e1df22",
   "metadata": {},
   "outputs": [
    {
     "data": {
      "text/html": [
       "<div>\n",
       "<style scoped>\n",
       "    .dataframe tbody tr th:only-of-type {\n",
       "        vertical-align: middle;\n",
       "    }\n",
       "\n",
       "    .dataframe tbody tr th {\n",
       "        vertical-align: top;\n",
       "    }\n",
       "\n",
       "    .dataframe thead th {\n",
       "        text-align: right;\n",
       "    }\n",
       "</style>\n",
       "<table border=\"1\" class=\"dataframe\">\n",
       "  <thead>\n",
       "    <tr style=\"text-align: right;\">\n",
       "      <th></th>\n",
       "      <th>review</th>\n",
       "      <th>rating</th>\n",
       "    </tr>\n",
       "  </thead>\n",
       "  <tbody>\n",
       "    <tr>\n",
       "      <th>0</th>\n",
       "      <td>Its just fine and has lifespan of 1 year only ...</td>\n",
       "      <td>4.0 out of 5 stars</td>\n",
       "    </tr>\n",
       "    <tr>\n",
       "      <th>1</th>\n",
       "      <td>For this price point ,this headphone is a grea...</td>\n",
       "      <td>4.0 out of 5 stars</td>\n",
       "    </tr>\n",
       "    <tr>\n",
       "      <th>2</th>\n",
       "      <td>Best experience ever in headphones I’ve used t...</td>\n",
       "      <td>4.0 out of 5 stars</td>\n",
       "    </tr>\n",
       "    <tr>\n",
       "      <th>3</th>\n",
       "      <td>overall is good</td>\n",
       "      <td>4.0 out of 5 stars</td>\n",
       "    </tr>\n",
       "    <tr>\n",
       "      <th>4</th>\n",
       "      <td>Bass Quality and sound is great</td>\n",
       "      <td>4.0 out of 5 stars</td>\n",
       "    </tr>\n",
       "  </tbody>\n",
       "</table>\n",
       "</div>"
      ],
      "text/plain": [
       "                                              review              rating\n",
       "0  Its just fine and has lifespan of 1 year only ...  4.0 out of 5 stars\n",
       "1  For this price point ,this headphone is a grea...  4.0 out of 5 stars\n",
       "2  Best experience ever in headphones I’ve used t...  4.0 out of 5 stars\n",
       "3                                    overall is good  4.0 out of 5 stars\n",
       "4                    Bass Quality and sound is great  4.0 out of 5 stars"
      ]
     },
     "execution_count": 5,
     "metadata": {},
     "output_type": "execute_result"
    }
   ],
   "source": [
    "final_df.head()"
   ]
  },
  {
   "cell_type": "code",
   "execution_count": 7,
   "id": "c72df425-aa02-4588-ba56-05a119bb55ac",
   "metadata": {},
   "outputs": [
    {
     "data": {
      "text/plain": [
       "4.0 out of 5 stars    753\n",
       "3.0 out of 5 stars    615\n",
       "5.0 out of 5 stars    475\n",
       "2.0 out of 5 stars    140\n",
       "1.0 out of 5 stars    114\n",
       "Name: rating, dtype: int64"
      ]
     },
     "execution_count": 7,
     "metadata": {},
     "output_type": "execute_result"
    }
   ],
   "source": [
    "# Value count for the different ratings\n",
    "final_df['rating'].value_counts()"
   ]
  },
  {
   "cell_type": "code",
   "execution_count": 10,
   "id": "48e32d36-7395-4f75-aec9-c8334f61e2bb",
   "metadata": {},
   "outputs": [
    {
     "data": {
      "text/plain": [
       "134"
      ]
     },
     "execution_count": 10,
     "metadata": {},
     "output_type": "execute_result"
    }
   ],
   "source": [
    "final_df.duplicated().sum()"
   ]
  },
  {
   "cell_type": "code",
   "execution_count": 11,
   "id": "a61b42c0-13ac-4fde-91b4-2c83528a2728",
   "metadata": {},
   "outputs": [],
   "source": [
    "final_df.drop_duplicates(inplace = True)"
   ]
  },
  {
   "cell_type": "code",
   "execution_count": 12,
   "id": "d73cdca0-b3aa-42c3-a1af-e89d7bbfa835",
   "metadata": {},
   "outputs": [],
   "source": [
    "final_df['rating'] = final_df['rating'].apply(lambda x: x.split()[0].split('.')[0])"
   ]
  },
  {
   "cell_type": "code",
   "execution_count": 15,
   "id": "1dd6fb31-66dd-472a-b384-9aede9b2592d",
   "metadata": {},
   "outputs": [
    {
     "data": {
      "text/plain": [
       "2092    2\n",
       "2093    3\n",
       "2094    2\n",
       "2095    3\n",
       "2096    2\n",
       "Name: rating, dtype: object"
      ]
     },
     "execution_count": 15,
     "metadata": {},
     "output_type": "execute_result"
    }
   ],
   "source": [
    "final_df['rating'].tail()"
   ]
  },
  {
   "cell_type": "code",
   "execution_count": 17,
   "id": "7dc7ed2e-f028-4a49-a272-8eedbb6f114a",
   "metadata": {},
   "outputs": [],
   "source": [
    "final_df = final_df.astype({'rating':'int64'})"
   ]
  },
  {
   "cell_type": "code",
   "execution_count": 21,
   "id": "662b4291-8677-418d-a378-ca9e22fb1c91",
   "metadata": {},
   "outputs": [
    {
     "data": {
      "text/plain": [
       "count    1963.000000\n",
       "mean        3.602140\n",
       "std         1.082309\n",
       "min         1.000000\n",
       "25%         3.000000\n",
       "50%         4.000000\n",
       "75%         4.000000\n",
       "max         5.000000\n",
       "Name: rating, dtype: float64"
      ]
     },
     "execution_count": 21,
     "metadata": {},
     "output_type": "execute_result"
    }
   ],
   "source": [
    "final_df['rating'].describe()"
   ]
  },
  {
   "cell_type": "code",
   "execution_count": 26,
   "id": "0ab3feec-210e-456b-869b-83e58c9ff1ac",
   "metadata": {},
   "outputs": [
    {
     "name": "stderr",
     "output_type": "stream",
     "text": [
      "[nltk_data] Downloading package stopwords to\n",
      "[nltk_data]     C:\\Users\\balun\\AppData\\Roaming\\nltk_data...\n",
      "[nltk_data]   Unzipping corpora\\stopwords.zip.\n"
     ]
    },
    {
     "data": {
      "text/plain": [
       "True"
      ]
     },
     "execution_count": 26,
     "metadata": {},
     "output_type": "execute_result"
    }
   ],
   "source": [
    "import re\n",
    "import nltk\n",
    "from nltk.corpus import stopwords\n",
    "from nltk.stem import PorterStemmer, LancasterStemmer\n",
    "import string\n",
    "nltk.download('stopwords')"
   ]
  },
  {
   "cell_type": "code",
   "execution_count": 25,
   "id": "7abacb2b-05e6-41e7-9d13-60b078afceba",
   "metadata": {},
   "outputs": [],
   "source": [
    "def clean(text):\n",
    "    text = text.lower()\n",
    "    text = re.sub('\\[.*?\\]', '', text)\n",
    "    text = re.sub('[%s]' % re.escape(string.punctuation), '', text)\n",
    "    text = re.sub('\\w*\\d\\w*', '', text)\n",
    "    text = re.sub('[\"\"''_]', '', text)\n",
    "    text = re.sub('\\n', '', text)\n",
    "    return text\n",
    "\n",
    "def decontract_text(text):\n",
    "    text = re.sub(r\"won\\'t\", \"will not\", text)\n",
    "    text = re.sub(r\"can\\'t\", \"can not\", text)\n",
    "    text = re.sub(r\"won\\’t\", \"will not\", text)\n",
    "    text = re.sub(r\"can\\’t\", \"can not\", text)\n",
    "    text = re.sub(r\"\\'t've\", \" not have\", text)\n",
    "    text = re.sub(r\"\\'d've\", \" would have\", text)\n",
    "    text = re.sub(r\"\\'clock\", \"f the clock\", text)\n",
    "    text = re.sub(r\"\\'cause\", \" because\", text)\n",
    "    text = re.sub(r\"n\\'t\", \" not\", text)\n",
    "    text = re.sub(r\"\\'re\", \" are\", text)\n",
    "    text = re.sub(r\"\\'s\", \" is\", text)\n",
    "    text = re.sub(r\"\\'d\", \" would\", text)\n",
    "    text = re.sub(r\"\\'ll\", \" will\", text)\n",
    "    text = re.sub(r\"\\'t\", \" not\", text)\n",
    "    text = re.sub(r\"\\'ve\", \" have\", text)\n",
    "    text = re.sub(r\"\\'m\", \" am\", text)\n",
    "    text = re.sub(r\"n\\’t\", \" not\", text)\n",
    "    text = re.sub(r\"\\’re\", \" are\", text)\n",
    "    text = re.sub(r\"\\’s\", \" is\", text)\n",
    "    text = re.sub(r\"\\’d\", \" would\", text)\n",
    "    text = re.sub(r\"\\’ll\", \" will\", text)\n",
    "    text = re.sub(r\"\\’t\", \" not\", text)\n",
    "    text = re.sub(r\"\\’ve\", \" have\", text)\n",
    "    text = re.sub(r\"\\’m\", \" am\", text)\n",
    "    return text\n",
    "\n",
    "def final_clean(text):\n",
    "    text = re.sub('[^a-zA-Z]', ' ', text)\n",
    "    stop = set(stopwords.words('english'))\n",
    "    filtered_words = [word for word in text.split() if word not in stop]\n",
    "    ps = LancasterStemmer()\n",
    "    text = [ps.stem(word) for word in filtered_words]\n",
    "    text = ' '.join(text)\n",
    "    return text"
   ]
  },
  {
   "cell_type": "code",
   "execution_count": 27,
   "id": "9da798e2-40d2-452d-a8e3-36e6f2e4db65",
   "metadata": {},
   "outputs": [],
   "source": [
    "final_df['review'] = final_df['review'].apply(lambda text: decontract_text(text))\n",
    "final_df['review'] = final_df['review'].apply(lambda text: clean(text))\n",
    "final_df['review'] = final_df['review'].apply(lambda text: final_clean(text))"
   ]
  },
  {
   "cell_type": "code",
   "execution_count": 29,
   "id": "0e466770-9e91-440e-befa-0c4cedc40e8b",
   "metadata": {},
   "outputs": [
    {
     "data": {
      "text/plain": [
       "<1963x3368 sparse matrix of type '<class 'numpy.int64'>'\n",
       "\twith 26320 stored elements in Compressed Sparse Row format>"
      ]
     },
     "execution_count": 29,
     "metadata": {},
     "output_type": "execute_result"
    }
   ],
   "source": [
    "vec = CountVectorizer()\n",
    "X = vec.fit_transform(final_df[\"review\"])\n",
    "X"
   ]
  },
  {
   "cell_type": "code",
   "execution_count": 31,
   "id": "1c02b995-2c50-4528-9001-75c3475c95c7",
   "metadata": {},
   "outputs": [],
   "source": [
    "df1 = pd.DataFrame(X.toarray(),columns=vec.get_feature_names_out())"
   ]
  },
  {
   "cell_type": "code",
   "execution_count": 32,
   "id": "05ebce9c-5979-4236-9720-a14fe4f54e69",
   "metadata": {},
   "outputs": [
    {
     "data": {
      "text/plain": [
       "4    678\n",
       "3    597\n",
       "5    435\n",
       "2    140\n",
       "1    113\n",
       "Name: rating, dtype: int64"
      ]
     },
     "execution_count": 32,
     "metadata": {},
     "output_type": "execute_result"
    }
   ],
   "source": [
    "final_df['rating'].value_counts()"
   ]
  },
  {
   "cell_type": "code",
   "execution_count": 34,
   "id": "dfdd46a2-ba35-4a1d-a41b-bab6a1c99af4",
   "metadata": {},
   "outputs": [],
   "source": [
    "final_df['Happy_Unhappy'] = final_df['rating'].apply(lambda x: 1 if x>3 else 0)"
   ]
  },
  {
   "cell_type": "code",
   "execution_count": 35,
   "id": "da3991b3-7cc9-42c8-a55d-ab0329c1f60c",
   "metadata": {},
   "outputs": [
    {
     "data": {
      "text/html": [
       "<div>\n",
       "<style scoped>\n",
       "    .dataframe tbody tr th:only-of-type {\n",
       "        vertical-align: middle;\n",
       "    }\n",
       "\n",
       "    .dataframe tbody tr th {\n",
       "        vertical-align: top;\n",
       "    }\n",
       "\n",
       "    .dataframe thead th {\n",
       "        text-align: right;\n",
       "    }\n",
       "</style>\n",
       "<table border=\"1\" class=\"dataframe\">\n",
       "  <thead>\n",
       "    <tr style=\"text-align: right;\">\n",
       "      <th></th>\n",
       "      <th>review</th>\n",
       "      <th>rating</th>\n",
       "      <th>Happy_Unhappy</th>\n",
       "    </tr>\n",
       "  </thead>\n",
       "  <tbody>\n",
       "    <tr>\n",
       "      <th>0</th>\n",
       "      <td>fin lifesp year gre year mic headphon stop wor...</td>\n",
       "      <td>4</td>\n",
       "      <td>1</td>\n",
       "    </tr>\n",
       "    <tr>\n",
       "      <th>1</th>\n",
       "      <td>pric point headphon gre steal us headphon dai ...</td>\n",
       "      <td>4</td>\n",
       "      <td>1</td>\n",
       "    </tr>\n",
       "    <tr>\n",
       "      <th>2</th>\n",
       "      <td>best expery ev headphon us til sup sound qual ...</td>\n",
       "      <td>4</td>\n",
       "      <td>1</td>\n",
       "    </tr>\n",
       "    <tr>\n",
       "      <th>3</th>\n",
       "      <td>overal good</td>\n",
       "      <td>4</td>\n",
       "      <td>1</td>\n",
       "    </tr>\n",
       "    <tr>\n",
       "      <th>4</th>\n",
       "      <td>bass qual sound gre</td>\n",
       "      <td>4</td>\n",
       "      <td>1</td>\n",
       "    </tr>\n",
       "    <tr>\n",
       "      <th>...</th>\n",
       "      <td>...</td>\n",
       "      <td>...</td>\n",
       "      <td>...</td>\n",
       "    </tr>\n",
       "    <tr>\n",
       "      <th>2092</th>\n",
       "      <td>produc qual got fail within three month</td>\n",
       "      <td>2</td>\n",
       "      <td>0</td>\n",
       "    </tr>\n",
       "    <tr>\n",
       "      <th>2093</th>\n",
       "      <td>first produc defect replac got nic produc got ...</td>\n",
       "      <td>3</td>\n",
       "      <td>0</td>\n",
       "    </tr>\n",
       "    <tr>\n",
       "      <th>2094</th>\n",
       "      <td>poor connect nee toggl connect jack rep okay l...</td>\n",
       "      <td>2</td>\n",
       "      <td>0</td>\n",
       "    </tr>\n",
       "    <tr>\n",
       "      <th>2095</th>\n",
       "      <td>overal produc good nic sound qual jack good us...</td>\n",
       "      <td>3</td>\n",
       "      <td>0</td>\n",
       "    </tr>\n",
       "    <tr>\n",
       "      <th>2096</th>\n",
       "      <td>originalit duply orgvert</td>\n",
       "      <td>2</td>\n",
       "      <td>0</td>\n",
       "    </tr>\n",
       "  </tbody>\n",
       "</table>\n",
       "<p>1963 rows × 3 columns</p>\n",
       "</div>"
      ],
      "text/plain": [
       "                                                 review  rating  Happy_Unhappy\n",
       "0     fin lifesp year gre year mic headphon stop wor...       4              1\n",
       "1     pric point headphon gre steal us headphon dai ...       4              1\n",
       "2     best expery ev headphon us til sup sound qual ...       4              1\n",
       "3                                           overal good       4              1\n",
       "4                                   bass qual sound gre       4              1\n",
       "...                                                 ...     ...            ...\n",
       "2092            produc qual got fail within three month       2              0\n",
       "2093  first produc defect replac got nic produc got ...       3              0\n",
       "2094  poor connect nee toggl connect jack rep okay l...       2              0\n",
       "2095  overal produc good nic sound qual jack good us...       3              0\n",
       "2096                           originalit duply orgvert       2              0\n",
       "\n",
       "[1963 rows x 3 columns]"
      ]
     },
     "execution_count": 35,
     "metadata": {},
     "output_type": "execute_result"
    }
   ],
   "source": [
    "final_df"
   ]
  },
  {
   "cell_type": "code",
   "execution_count": 36,
   "id": "dfbc6bba-f539-4de6-8648-16a23714296b",
   "metadata": {},
   "outputs": [
    {
     "data": {
      "text/plain": [
       "1    1113\n",
       "0     850\n",
       "Name: Happy_Unhappy, dtype: int64"
      ]
     },
     "execution_count": 36,
     "metadata": {},
     "output_type": "execute_result"
    }
   ],
   "source": [
    "final_df['Happy_Unhappy'].value_counts()"
   ]
  },
  {
   "cell_type": "code",
   "execution_count": 38,
   "id": "7f7e712f-a4aa-4b62-af11-ecd317463791",
   "metadata": {},
   "outputs": [],
   "source": [
    "y = final_df['Happy_Unhappy']\n",
    "X_train, X_test, y_train, y_test = train_test_split(df1, y, test_size=0.2, stratify = y)"
   ]
  },
  {
   "cell_type": "code",
   "execution_count": 39,
   "id": "612c46cb-3e6a-402f-bf34-ccf466154a92",
   "metadata": {},
   "outputs": [
    {
     "name": "stdout",
     "output_type": "stream",
     "text": [
      "1    890\n",
      "0    680\n",
      "Name: Happy_Unhappy, dtype: int64\n",
      "1    223\n",
      "0    170\n",
      "Name: Happy_Unhappy, dtype: int64\n"
     ]
    }
   ],
   "source": [
    "print(y_train.value_counts())\n",
    "print(y_test.value_counts())"
   ]
  },
  {
   "cell_type": "markdown",
   "id": "75181bc6-5b9c-4aa8-904d-b1b65f8a1d9e",
   "metadata": {},
   "source": [
    "## Support Vector Classifiers"
   ]
  },
  {
   "cell_type": "code",
   "execution_count": 45,
   "id": "2ac37d26-b1df-40dd-86ec-e0825111dcba",
   "metadata": {},
   "outputs": [
    {
     "name": "stdout",
     "output_type": "stream",
     "text": [
      "              precision    recall  f1-score   support\n",
      "\n",
      "           0       0.92      0.74      0.82       680\n",
      "           1       0.83      0.95      0.88       890\n",
      "\n",
      "    accuracy                           0.86      1570\n",
      "   macro avg       0.87      0.85      0.85      1570\n",
      "weighted avg       0.87      0.86      0.86      1570\n",
      "\n"
     ]
    }
   ],
   "source": [
    "model = svm.SVC()\n",
    "model.fit(X_train, y_train)\n",
    "X_train_pred = model.predict(X_train)\n",
    "X_test_pred = model.predict(X_test)\n",
    "print(classification_report(y_train, X_train_pred))"
   ]
  },
  {
   "cell_type": "markdown",
   "id": "359c6a41-d6ab-4b27-9a4f-d14b4441a055",
   "metadata": {},
   "source": [
    "## Random Forest Classifier"
   ]
  },
  {
   "cell_type": "code",
   "execution_count": 49,
   "id": "f79deb9e-28b3-4088-81e2-217a8352dba5",
   "metadata": {},
   "outputs": [
    {
     "name": "stdout",
     "output_type": "stream",
     "text": [
      "              precision    recall  f1-score   support\n",
      "\n",
      "           0       0.98      0.33      0.49       680\n",
      "           1       0.66      1.00      0.79       890\n",
      "\n",
      "    accuracy                           0.71      1570\n",
      "   macro avg       0.82      0.66      0.64      1570\n",
      "weighted avg       0.80      0.71      0.66      1570\n",
      "\n"
     ]
    }
   ],
   "source": [
    "model = RandomForestClassifier(n_jobs = -1, max_depth = 10, n_estimators = 50)\n",
    "model.fit(X_train, y_train)\n",
    "X_train_pred = model.predict(X_train)\n",
    "X_test_pred = model.predict(X_test)\n",
    "print(classification_report(y_train, X_train_pred))"
   ]
  },
  {
   "cell_type": "markdown",
   "id": "ea4ddaad-3fcf-4c09-976a-e25f5089588c",
   "metadata": {},
   "source": [
    "## `Random Forest Classifier` is giving the best accuracy"
   ]
  }
 ],
 "metadata": {
  "kernelspec": {
   "display_name": "Python 3 (ipykernel)",
   "language": "python",
   "name": "python3"
  },
  "language_info": {
   "codemirror_mode": {
    "name": "ipython",
    "version": 3
   },
   "file_extension": ".py",
   "mimetype": "text/x-python",
   "name": "python",
   "nbconvert_exporter": "python",
   "pygments_lexer": "ipython3",
   "version": "3.9.13"
  }
 },
 "nbformat": 4,
 "nbformat_minor": 5
}

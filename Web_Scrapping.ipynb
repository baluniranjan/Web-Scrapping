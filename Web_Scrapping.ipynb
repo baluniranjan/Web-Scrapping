{
  "nbformat": 4,
  "nbformat_minor": 0,
  "metadata": {
    "colab": {
      "provenance": []
    },
    "kernelspec": {
      "name": "python3",
      "display_name": "Python 3"
    },
    "language_info": {
      "name": "python"
    }
  },
  "cells": [
    {
      "cell_type": "code",
      "execution_count": null,
      "metadata": {
        "id": "K8QfU6vAV8yi"
      },
      "outputs": [],
      "source": [
        "import sys\n",
        "from google.colab import drive\n",
        "drive.mount(f'/content/drive')\n",
        "sys.path.append('/content/drive/My Drive/MachineLearning')"
      ]
    },
    {
      "cell_type": "code",
      "source": [
        "#!apt-get update --fix-missing\n",
        "!apt install chromium-chromedriver"
      ],
      "metadata": {
        "id": "l79oGkeWWGqb"
      },
      "execution_count": null,
      "outputs": []
    },
    {
      "cell_type": "code",
      "source": [
        "#load the libraries\n",
        "import csv \n",
        "from bs4 import BeautifulSoup\n",
        "from time import sleep\n",
        "import pandas as pd\n",
        "from datetime import datetime\n",
        "import re\n",
        "import requests\n",
        "import io\n",
        "import PIL\n",
        "from PIL import Image\n",
        "import requests\n",
        "import os\n",
        "import time\n",
        "from threading import Thread\n",
        "from concurrent.futures import ThreadPoolExecutor\n",
        "from selenium import webdriver\n",
        "from selenium.webdriver.common.action_chains import ActionChains\n",
        "from selenium.webdriver.common.keys import Keys\n",
        "from selenium.webdriver.common.by import By\n",
        "from selenium.common.exceptions import NoSuchElementException\n",
        "from selenium.webdriver.remote.webelement import WebElement\n",
        "from selenium.common.exceptions import NoSuchElementException, TimeoutException\n",
        "from selenium.webdriver.support import expected_conditions as EC\n",
        "from selenium.webdriver.support.ui import WebDriverWait\n",
        "from selenium.webdriver.common.desired_capabilities import DesiredCapabilities"
      ],
      "metadata": {
        "id": "daQtbwB8WIji"
      },
      "execution_count": null,
      "outputs": []
    },
    {
      "cell_type": "code",
      "source": [
        "def driver_setup():\n",
        "    options = webdriver.ChromeOptions()\n",
        "    options.add_argument('--headless')\n",
        "    options.add_argument('--no-sandbox')\n",
        "    options.add_argument('--disable-dev-shm-usage')\n",
        "    driver = webdriver.Chrome('chromedriver',options=options)\n",
        "    driver.set_window_size(1600, 1200)\n",
        "    return driver"
      ],
      "metadata": {
        "id": "evRTu02wWLhi"
      },
      "execution_count": null,
      "outputs": []
    },
    {
      "cell_type": "code",
      "source": [
        "driver = driver_setup()"
      ],
      "metadata": {
        "id": "qLGX6S-lWNhK"
      },
      "execution_count": null,
      "outputs": []
    },
    {
      "cell_type": "code",
      "source": [
        "df = pd.DataFrame(columns = ['review', 'rating'])\n",
        "count = 12\n",
        "for j in range(151,1000):\n",
        "    url = f'https://www.amazon.in/Boat-BassHeads-900-Wired-Headphone/product-reviews/B074ZF7PVZ/ref=cm_cr_getr_d_paging_btm_next_3?ie=UTF8&reviewerType=all_reviews&pageNumber={j}'\n",
        "    driver.get(url)\n",
        "    driver.implicitly_wait(5)\n",
        "    for i in range(1, count-1):\n",
        "        try:\n",
        "            Xpath1 = f'/html/body/div[1]/div[3]/div/div[1]/div/div[1]/div[5]/div[3]/div/div[{i}]/div/div/div[2]/a[1]/i/span'\n",
        "            Xpath2 = f'/html/body/div[1]/div[3]/div/div[1]/div/div[1]/div[5]/div[3]/div/div[{i}]/div/div/div[4]/span/span'\n",
        "            star = driver.find_element(By.XPATH, Xpath1).get_attribute('innerHTML')\n",
        "            review = driver.find_element(By.XPATH, Xpath2).text\n",
        "            if star.split()[0] in ['1.0','2.0','3.0']:\n",
        "                print(star.split()[0])\n",
        "                df = df.append({'review':review, 'rating':star}, ignore_index = True)\n",
        "            else:\n",
        "                continue\n",
        "        except (NoSuchElementException, TimeoutException):\n",
        "            pass"
      ],
      "metadata": {
        "id": "C-yWOt0YWPFy"
      },
      "execution_count": null,
      "outputs": []
    },
    {
      "cell_type": "code",
      "source": [
        "df['rating'].value_counts()"
      ],
      "metadata": {
        "id": "rKfvZQCNWRB6"
      },
      "execution_count": null,
      "outputs": []
    },
    {
      "cell_type": "code",
      "source": [
        "df.to_csv('/content/drive/MyDrive/MachineLearning/boat_bassheads900_reviews_3.csv', index = False)"
      ],
      "metadata": {
        "id": "jx-VLcvnWTHS"
      },
      "execution_count": null,
      "outputs": []
    }
  ]
}